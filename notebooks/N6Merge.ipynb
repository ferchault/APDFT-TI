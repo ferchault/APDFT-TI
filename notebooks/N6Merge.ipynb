{
 "cells": [
  {
   "cell_type": "code",
   "execution_count": 1,
   "metadata": {},
   "outputs": [
    {
     "name": "stdout",
     "output_type": "stream",
     "text": [
      "The history saving thread hit an unexpected error (DatabaseError('database disk image is malformed',)).History will not be written to the database.\n"
     ]
    }
   ],
   "source": [
    "import numpy as np\n",
    "import pandas as pd\n",
    "import matplotlib.pyplot as plt\n",
    "import glob"
   ]
  },
  {
   "cell_type": "code",
   "execution_count": 16,
   "metadata": {},
   "outputs": [],
   "source": [
    "BASISSET='sto3g'\n",
    "BASISSET='cc-pVDZ'"
   ]
  },
  {
   "cell_type": "code",
   "execution_count": 17,
   "metadata": {},
   "outputs": [],
   "source": [
    "# read calculations, build one df\n",
    "def read_calculations():\n",
    "    ret = []\n",
    "    for fn in glob.glob('../data-tmp/n6/%s/*.gz' % BASISSET):\n",
    "        try:\n",
    "            df  = pd.read_pickle(fn)\n",
    "        except:\n",
    "            continue\n",
    "        res = {}\n",
    "        for column in df.columns:\n",
    "            res[column] = df[column].unique()[0]\n",
    "        res['density'] = df.density.values\n",
    "        ret.append(res)\n",
    "    return pd.DataFrame(ret)\n",
    "df = read_calculations()"
   ]
  },
  {
   "cell_type": "code",
   "execution_count": 19,
   "metadata": {},
   "outputs": [],
   "source": [
    "df.to_pickle('../data-tmp/n6-cc-pVDZ.pkl.gz')"
   ]
  }
 ],
 "metadata": {
  "kernelspec": {
   "display_name": "Python [conda env:analysis]",
   "language": "python",
   "name": "conda-env-analysis-py"
  },
  "language_info": {
   "codemirror_mode": {
    "name": "ipython",
    "version": 3
   },
   "file_extension": ".py",
   "mimetype": "text/x-python",
   "name": "python",
   "nbconvert_exporter": "python",
   "pygments_lexer": "ipython3",
   "version": "3.6.8"
  }
 },
 "nbformat": 4,
 "nbformat_minor": 2
}
